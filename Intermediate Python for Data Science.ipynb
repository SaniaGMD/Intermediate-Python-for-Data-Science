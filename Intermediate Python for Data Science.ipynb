{
 "cells": [
  {
   "cell_type": "markdown",
   "id": "b4f72a94",
   "metadata": {},
   "source": [
    "# <center>Intermediate Python<center>"
   ]
  },
  {
   "cell_type": "markdown",
   "id": "c9a2d4f1",
   "metadata": {},
   "source": [
    "In this notebook, we’ll be more concerned with the python syntax stuff, but along with this, I've divided the “intermediate python for data science” chapter into more. I’ll bring back new chapters with the basics of Numpy, Matplotlib, and Pandas along with practices.\n",
    "\n",
    "1. Data Structures \n",
    "2. Logic Control Flow and Filtering\n",
    "3. Loops"
   ]
  },
  {
   "cell_type": "markdown",
   "id": "98b02545",
   "metadata": {},
   "source": [
    "# 1. Data Structures"
   ]
  },
  {
   "cell_type": "markdown",
   "id": "0d0948c1",
   "metadata": {},
   "source": [
    "Data structures are formations in which data can be kept in memory. Python offers multiple built-in data structures so that the programmer needs not to implement these from scratch. These include:\n",
    "- Dictionary\n",
    "- Tuple\n",
    "- Set\n",
    "- List (covered in the previous article: Introduction to Python for DS)"
   ]
  },
  {
   "cell_type": "markdown",
   "id": "ea5bce6c",
   "metadata": {},
   "source": [
    "# 1.1 Dictionary"
   ]
  },
  {
   "cell_type": "code",
   "execution_count": 2,
   "id": "40cb5a66",
   "metadata": {},
   "outputs": [
    {
     "data": {
      "text/plain": [
       "2.77"
      ]
     },
     "execution_count": 2,
     "metadata": {},
     "output_type": "execute_result"
    }
   ],
   "source": [
    "#storing data by using lists\n",
    "pop = [30.55, 2.77, 39.21]\n",
    "countries = [\"afghanistan\", \"albania\", \"algeria\"]\n",
    "...\n",
    "#storing data by using dictionaries, Dictionaries are supposed \n",
    "#to be more convennient to store data about data\n",
    "world = {\"afghanistan\":30.55,\"albania\":2.77, \"algeria\":39.21}\n",
    "world[\"albania\"]"
   ]
  },
  {
   "cell_type": "code",
   "execution_count": 3,
   "id": "2885763a",
   "metadata": {},
   "outputs": [
    {
     "data": {
      "text/plain": [
       "{'afghanistan': 30.55, 'albania': 2.81, 'algeria': 39.21}"
      ]
     },
     "execution_count": 3,
     "metadata": {},
     "output_type": "execute_result"
    }
   ],
   "source": [
    "world = {\"afghanistan\":30.55,\"albania\":2.77,\"algeria\":39.21,\"albania\":2.81}\n",
    "world"
   ]
  },
  {
   "cell_type": "markdown",
   "id": "0d1ee056",
   "metadata": {},
   "source": [
    "### 1.1.1 Adding data in a dictionary"
   ]
  },
  {
   "cell_type": "code",
   "execution_count": 4,
   "id": "15b8568d",
   "metadata": {},
   "outputs": [
    {
     "data": {
      "text/plain": [
       "{'afghanistan': 30.55, 'albania': 2.81, 'algeria': 39.21, 'sealand': 2.7e-05}"
      ]
     },
     "execution_count": 4,
     "metadata": {},
     "output_type": "execute_result"
    }
   ],
   "source": [
    "#adding another country(key) and population(value) in the world dictionary\n",
    "world[\"sealand\"] = 0.000027\n",
    "world"
   ]
  },
  {
   "cell_type": "code",
   "execution_count": 5,
   "id": "b73c8403",
   "metadata": {},
   "outputs": [
    {
     "data": {
      "text/plain": [
       "True"
      ]
     },
     "execution_count": 5,
     "metadata": {},
     "output_type": "execute_result"
    }
   ],
   "source": [
    "#checking the addition of key in dictionary\n",
    "\"sealand\" in world"
   ]
  },
  {
   "cell_type": "markdown",
   "id": "b2842c73",
   "metadata": {},
   "source": [
    "### 1.1.2 Deleting data from a dictionary"
   ]
  },
  {
   "cell_type": "code",
   "execution_count": 6,
   "id": "c77c1122",
   "metadata": {},
   "outputs": [
    {
     "data": {
      "text/plain": [
       "{'afghanistan': 30.55, 'albania': 2.81, 'algeria': 39.21}"
      ]
     },
     "execution_count": 6,
     "metadata": {},
     "output_type": "execute_result"
    }
   ],
   "source": [
    "del(world[\"sealand\"]) \n",
    "world \n",
    "#sealand (key and value) has been deleted"
   ]
  },
  {
   "cell_type": "markdown",
   "id": "a0182d0d",
   "metadata": {},
   "source": [
    "### 1.1.3 Lists vs. Dictionary"
   ]
  },
  {
   "cell_type": "code",
   "execution_count": null,
   "id": "39f420a1",
   "metadata": {},
   "outputs": [],
   "source": []
  },
  {
   "cell_type": "markdown",
   "id": "71b61711",
   "metadata": {},
   "source": [
    "# 1.2 Tuples"
   ]
  },
  {
   "cell_type": "markdown",
   "id": "b58da2fc",
   "metadata": {},
   "source": [
    "In Python, a tuple is an ordered, immutable sequence of elements. This means that once a tuple is created, its contents cannot be modified. Tuples are similar to lists in Python, but with two key differences:\n",
    "\n",
    "1. Tuples are enclosed in parentheses (), whereas lists are enclosed in square brackets [].\n",
    "2. Tuples are immutable, whereas lists are mutable."
   ]
  },
  {
   "cell_type": "code",
   "execution_count": 10,
   "id": "0d094292",
   "metadata": {},
   "outputs": [],
   "source": [
    "# tuple are used with \"round brackets\"\n",
    "t = (1,2,3)"
   ]
  },
  {
   "cell_type": "code",
   "execution_count": 11,
   "id": "635ff3d9",
   "metadata": {},
   "outputs": [
    {
     "data": {
      "text/plain": [
       "2"
      ]
     },
     "execution_count": 11,
     "metadata": {},
     "output_type": "execute_result"
    }
   ],
   "source": [
    "# tuple indexing is just same as list indexing we covered before\n",
    "t[1]"
   ]
  },
  {
   "cell_type": "code",
   "execution_count": 12,
   "id": "3c388d96",
   "metadata": {},
   "outputs": [
    {
     "data": {
      "text/plain": [
       "(2, 3)"
      ]
     },
     "execution_count": 12,
     "metadata": {},
     "output_type": "execute_result"
    }
   ],
   "source": [
    "# tuple slicing is just same as list slicing we covered before\n",
    "t[1:]"
   ]
  },
  {
   "cell_type": "code",
   "execution_count": 22,
   "id": "bc405d0c",
   "metadata": {},
   "outputs": [
    {
     "ename": "TypeError",
     "evalue": "'tuple' object does not support item assignment",
     "output_type": "error",
     "traceback": [
      "\u001b[1;31m---------------------------------------------------------------------------\u001b[0m",
      "\u001b[1;31mTypeError\u001b[0m                                 Traceback (most recent call last)",
      "\u001b[1;32m~\\AppData\\Local\\Temp/ipykernel_9316/475390426.py\u001b[0m in \u001b[0;36m<module>\u001b[1;34m\u001b[0m\n\u001b[0;32m      1\u001b[0m \u001b[1;31m# tuples are immutable objects so no item can be changed\u001b[0m\u001b[1;33m\u001b[0m\u001b[1;33m\u001b[0m\u001b[0m\n\u001b[1;32m----> 2\u001b[1;33m \u001b[0mt\u001b[0m\u001b[1;33m[\u001b[0m\u001b[1;36m0\u001b[0m\u001b[1;33m]\u001b[0m \u001b[1;33m=\u001b[0m \u001b[1;34m'99'\u001b[0m\u001b[1;33m\u001b[0m\u001b[1;33m\u001b[0m\u001b[0m\n\u001b[0m",
      "\u001b[1;31mTypeError\u001b[0m: 'tuple' object does not support item assignment"
     ]
    }
   ],
   "source": [
    "# tuples are immutable objects so no item can be changed\n",
    "t[0] = '99'"
   ]
  },
  {
   "cell_type": "markdown",
   "id": "78aeee71",
   "metadata": {},
   "source": [
    "# 1.3 Sets"
   ]
  },
  {
   "cell_type": "markdown",
   "id": "f2b54ea7",
   "metadata": {},
   "source": [
    "In Python, a set is an unordered collection of unique elements. This means that each element in a set is unique (i.e., it can only appear once in the set), and the elements are not stored in any particular order. Sets are used when you need to store a collection of elements, but you don’t care about the order or the duplicates."
   ]
  },
  {
   "cell_type": "code",
   "execution_count": 26,
   "id": "ceb98a62",
   "metadata": {},
   "outputs": [
    {
     "data": {
      "text/plain": [
       "{1, 2, 3}"
      ]
     },
     "execution_count": 26,
     "metadata": {},
     "output_type": "execute_result"
    }
   ],
   "source": [
    "set = {1,2,3}\n",
    "\n",
    "# sets are collections of unique items\n",
    "{1,2,3,1,2,1,2,3,3,3,3,2,2,2,1,1,2}"
   ]
  },
  {
   "cell_type": "code",
   "execution_count": 27,
   "id": "b65459d8",
   "metadata": {},
   "outputs": [
    {
     "data": {
      "text/plain": [
       "{1, 2, 3, 9}"
      ]
     },
     "execution_count": 27,
     "metadata": {},
     "output_type": "execute_result"
    }
   ],
   "source": [
    "# set item add\n",
    "set.add(9)\n",
    "set"
   ]
  },
  {
   "cell_type": "code",
   "execution_count": 28,
   "id": "59a92c8f",
   "metadata": {},
   "outputs": [
    {
     "name": "stdout",
     "output_type": "stream",
     "text": [
      "intersection is: {3}\n",
      "union is: {1, 2, 3, 4, 5}\n",
      "difference is: {1, 2}\n"
     ]
    }
   ],
   "source": [
    "# set allow intersection, difference, union among other operations\n",
    "s1 = {1,2,3}\n",
    "s2 = {3,4,5}\n",
    "intersection = s1.intersection(s2)\n",
    "print(\"intersection is:\", intersection)\n",
    "union = s1.union(s2)\n",
    "print(\"union is:\", union)\n",
    "difference = s1.difference(s2)\n",
    "print(\"difference is:\", difference)"
   ]
  },
  {
   "cell_type": "code",
   "execution_count": 29,
   "id": "9be8cdc4",
   "metadata": {},
   "outputs": [
    {
     "name": "stdout",
     "output_type": "stream",
     "text": [
      "Intersection:  {3, 4}\n",
      "Union:  {1, 2, 3, 4, 5, 6, 'g'}\n"
     ]
    }
   ],
   "source": [
    "# Ashort hand for \n",
    "a={1,3,4,6,'g'}\n",
    "b = {2, 3, 4, 5}\n",
    "\n",
    "print(\"Intersection: \",a & b)\n",
    "print(\"Union: \",a | b)\n"
   ]
  },
  {
   "cell_type": "markdown",
   "id": "7831530c",
   "metadata": {},
   "source": [
    "# 2. Logic Control Flow and Filtering"
   ]
  },
  {
   "cell_type": "markdown",
   "id": "84a77476",
   "metadata": {},
   "source": [
    "### 2.1 If"
   ]
  },
  {
   "cell_type": "code",
   "execution_count": 32,
   "id": "929e44e7",
   "metadata": {},
   "outputs": [],
   "source": [
    "#basic syntax\n",
    "#if condition :\n",
    "#    expression"
   ]
  },
  {
   "cell_type": "code",
   "execution_count": 33,
   "id": "779b6458",
   "metadata": {},
   "outputs": [
    {
     "name": "stdout",
     "output_type": "stream",
     "text": [
      "checking 4\n",
      "z is even\n"
     ]
    }
   ],
   "source": [
    "z = 4\n",
    "if z % 2 == 0 :\n",
    "  print(\"checking \" + str(z))\n",
    "  print(\"z is even\")"
   ]
  },
  {
   "cell_type": "markdown",
   "id": "236e71c6",
   "metadata": {},
   "source": [
    "### 2.2 else"
   ]
  },
  {
   "cell_type": "code",
   "execution_count": 34,
   "id": "ae787729",
   "metadata": {},
   "outputs": [],
   "source": [
    "#basic syntax\n",
    "#if condition :\n",
    "#  expression\n",
    "#else :\n",
    "#  expression  "
   ]
  },
  {
   "cell_type": "code",
   "execution_count": 35,
   "id": "544d7c74",
   "metadata": {},
   "outputs": [
    {
     "name": "stdout",
     "output_type": "stream",
     "text": [
      "z is odd\n"
     ]
    }
   ],
   "source": [
    "z = 5\n",
    "if z % 2 == 0 : # False\n",
    "   print(\"z is even\")\n",
    "else :\n",
    "  print(\"z is odd\")"
   ]
  },
  {
   "cell_type": "markdown",
   "id": "ff026b73",
   "metadata": {},
   "source": [
    "### 2.3 elif"
   ]
  },
  {
   "cell_type": "code",
   "execution_count": 37,
   "id": "dc472b25",
   "metadata": {},
   "outputs": [],
   "source": [
    "#basic syntax\n",
    "#if condition :\n",
    "#   expression\n",
    "# elif condition :\n",
    "#   expression\n",
    "# else :\n",
    "#   expression"
   ]
  },
  {
   "cell_type": "code",
   "execution_count": 38,
   "id": "23cf6730",
   "metadata": {},
   "outputs": [
    {
     "name": "stdout",
     "output_type": "stream",
     "text": [
      "z is divisible by 3\n"
     ]
    }
   ],
   "source": [
    "z = 3\n",
    "if z % 2 == 0 :\n",
    "  print(\"z is divisible by 2\") # False\n",
    "elif z % 3 == 0 :\n",
    "  print(\"z is divisible by 3\") # True\n",
    "else :\n",
    "  print(\"z is neither divisible by 2 nor by 3\")"
   ]
  },
  {
   "cell_type": "markdown",
   "id": "71ebd29b",
   "metadata": {},
   "source": [
    "# 3. Loops"
   ]
  },
  {
   "cell_type": "markdown",
   "id": "a511a619",
   "metadata": {},
   "source": [
    "- while\n",
    "- for"
   ]
  },
  {
   "cell_type": "markdown",
   "id": "32bf8b5e",
   "metadata": {},
   "source": [
    "### 3.1 while"
   ]
  },
  {
   "cell_type": "code",
   "execution_count": 40,
   "id": "b4cee0b9",
   "metadata": {},
   "outputs": [],
   "source": [
    "# while condition :\n",
    "#   expression"
   ]
  },
  {
   "cell_type": "code",
   "execution_count": 41,
   "id": "3ce27053",
   "metadata": {},
   "outputs": [
    {
     "name": "stdout",
     "output_type": "stream",
     "text": [
      "12.5\n",
      "3.125\n",
      "0.78125\n"
     ]
    }
   ],
   "source": [
    "error = 50.0\n",
    "# 0.78125\n",
    "while error > 1: # False\n",
    "  error = error / 4\n",
    "  print(error)"
   ]
  },
  {
   "cell_type": "markdown",
   "id": "db5049b4",
   "metadata": {},
   "source": [
    "### 3.2 for loop"
   ]
  },
  {
   "cell_type": "code",
   "execution_count": 43,
   "id": "20102981",
   "metadata": {},
   "outputs": [],
   "source": [
    "#basic syntax\n",
    "# for var in seq :\n",
    "#   expression\n",
    "\n",
    "# # for each var in seq, execute expression"
   ]
  },
  {
   "cell_type": "code",
   "execution_count": 45,
   "id": "8c7e63a6",
   "metadata": {},
   "outputs": [
    {
     "name": "stdout",
     "output_type": "stream",
     "text": [
      "1.73\n",
      "1.68\n",
      "1.71\n",
      "1.89\n"
     ]
    }
   ],
   "source": [
    "fam = [1.73, 1.68, 1.71, 1.89]\n",
    "for height in fam :\n",
    "  print(height)"
   ]
  },
  {
   "cell_type": "markdown",
   "id": "bc88edab",
   "metadata": {},
   "source": [
    "### enumerate, loops over list, dictionary, NumPy arrays"
   ]
  },
  {
   "cell_type": "code",
   "execution_count": 46,
   "id": "6ace312f",
   "metadata": {},
   "outputs": [
    {
     "name": "stdout",
     "output_type": "stream",
     "text": [
      "index 0: 1.73\n",
      "index 1: 1.68\n",
      "index 2: 1.71\n",
      "index 3: 1.89\n"
     ]
    }
   ],
   "source": [
    "fam = [1.73, 1.68, 1.71, 1.89]\n",
    "for index, height in enumerate(fam) :\n",
    "  print(\"index \" + str(index) + \": \" + str(height))"
   ]
  },
  {
   "cell_type": "code",
   "execution_count": 47,
   "id": "c8317b23",
   "metadata": {},
   "outputs": [
    {
     "name": "stdout",
     "output_type": "stream",
     "text": [
      "F\n",
      "A\n",
      "M\n",
      "I\n",
      "L\n",
      "Y\n"
     ]
    }
   ],
   "source": [
    "for c in \"family\" :\n",
    "  print(c.capitalize())"
   ]
  },
  {
   "cell_type": "code",
   "execution_count": 48,
   "id": "8bda8eb8",
   "metadata": {},
   "outputs": [
    {
     "name": "stdout",
     "output_type": "stream",
     "text": [
      "afghanistan--30.55\n",
      "albania--2.77\n",
      "algeria--39.21\n"
     ]
    }
   ],
   "source": [
    "#looping over dictionary\n",
    "world = { \"afghanistan\":30.55,\"albania\":2.77,\"algeria\":39.21 }\n",
    "for key, value in world.items() :\n",
    "  print(key + \"--\" + str(value))"
   ]
  },
  {
   "cell_type": "code",
   "execution_count": 49,
   "id": "02f97d8f",
   "metadata": {},
   "outputs": [
    {
     "name": "stdout",
     "output_type": "stream",
     "text": [
      "21.85171572722109\n",
      "20.97505668934241\n",
      "21.750282138093777\n",
      "24.74734749867025\n",
      "21.44127836209856\n"
     ]
    }
   ],
   "source": [
    "import numpy as np\n",
    "np_height = np.array([1.73, 1.68, 1.71, 1.89, 1.79])\n",
    "np_weight = np.array([65.4, 59.2, 63.6, 88.4, 68.7])\n",
    "bmi = np_weight / np_height ** 2\n",
    "for val in bmi :\n",
    "  print(val)"
   ]
  },
  {
   "cell_type": "markdown",
   "id": "f1fac9a8",
   "metadata": {},
   "source": [
    "# Important Note"
   ]
  },
  {
   "cell_type": "markdown",
   "id": "c683047e",
   "metadata": {},
   "source": [
    "Important note\n",
    "I’m working on #100daysofMLCode, where I am starting with the beginner level, I’ll post the weekly content or more in a week in a form of a crux. If you’re a beginner and want to enhance your knowledge of Data science along with practice implementation, we can get connected through LinkedIn, Medium, and GitHub here."
   ]
  },
  {
   "cell_type": "markdown",
   "id": "81f28bcf",
   "metadata": {},
   "source": [
    "# LinkedIn"
   ]
  },
  {
   "cell_type": "markdown",
   "id": "c8233cb1",
   "metadata": {},
   "source": [
    "Here is my LinkedIn profile in case you want to connect with me. I’ll be happy to be connected with you. <br>\n",
    "Lets Connected: https://www.linkedin.com/in/sania-mohiu-ud-din-277047193 <br>\n",
    "GitHub: https://github.com/SaniaGMD"
   ]
  }
 ],
 "metadata": {
  "kernelspec": {
   "display_name": "Python 3 (ipykernel)",
   "language": "python",
   "name": "python3"
  },
  "language_info": {
   "codemirror_mode": {
    "name": "ipython",
    "version": 3
   },
   "file_extension": ".py",
   "mimetype": "text/x-python",
   "name": "python",
   "nbconvert_exporter": "python",
   "pygments_lexer": "ipython3",
   "version": "3.9.7"
  }
 },
 "nbformat": 4,
 "nbformat_minor": 5
}
